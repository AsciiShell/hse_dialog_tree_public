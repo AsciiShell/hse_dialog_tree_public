{
 "cells": [
  {
   "cell_type": "code",
   "execution_count": 1,
   "metadata": {
    "cellId": "186xsvnqwtt1ayeexx77rg"
   },
   "outputs": [
    {
     "name": "stdout",
     "output_type": "stream",
     "text": [
      " Intel Xeon Processor (Cascadelake) x 4\n"
     ]
    }
   ],
   "source": [
    "import os\n",
    "from collections import defaultdict, Counter\n",
    "\n",
    "import matplotlib.pyplot as plt\n",
    "import numpy as np\n",
    "from graphviz import Digraph\n",
    "from scipy.spatial import distance\n",
    "from sklearn.cluster import MiniBatchKMeans\n",
    "from sklearn.model_selection import train_test_split\n",
    "from tqdm import tqdm\n",
    "from tensorflow.keras.utils import to_categorical\n",
    "from tensorflow.keras.layers import   Dense\n",
    "\n",
    "from hse_dialog_tree.kmeans_names import get_names\n",
    "from hse_dialog_tree.utils.cpu import get_processor_info\n",
    "from hse_dialog_tree.utils.files import load_pickle\n",
    "\n",
    "LANG = 'rus'\n",
    "print(get_processor_info())"
   ]
  },
  {
   "cell_type": "code",
   "execution_count": 2,
   "metadata": {
    "cellId": "5oyru4nzjelueygz2331c"
   },
   "outputs": [],
   "source": [
    "dramas = load_pickle(f'data/{LANG}/content_all.pkl.zip')\n",
    "\n",
    "dramas_texts = []\n",
    "for k, v in dramas.items():\n",
    "    dramas_texts.append(v)"
   ]
  },
  {
   "cell_type": "code",
   "execution_count": 3,
   "metadata": {
    "cellId": "zl0rkdssnb8xe2s0oq4959"
   },
   "outputs": [],
   "source": [
    "vectors = load_pickle(f'data/{LANG}/02_vectors_v2.pkl.zip')\n",
    "sentence_to_vector = load_pickle(f'data/{LANG}/02_sentence_to_vector_v2.pkl.zip')\n",
    "\n",
    "cluster_model_kmeans = load_pickle('steps/03_kmeans/kmeans_v2_044.pkl.zip')\n",
    "cluster_names = get_names(cluster_model_kmeans)\n",
    "assert cluster_names is not None"
   ]
  },
  {
   "cell_type": "code",
   "execution_count": 4,
   "metadata": {
    "cellId": "v0477vni71fw1pfgleoul"
   },
   "outputs": [],
   "source": [
    "def ngrams_from_vector(vec, n=3):\n",
    "    return [vec[i: i+n] for i in range(len(vec)-n + 1)]"
   ]
  },
  {
   "cell_type": "code",
   "execution_count": 5,
   "metadata": {
    "cellId": "w8jfuo11kah93ot5qiblqm"
   },
   "outputs": [
    {
     "name": "stderr",
     "output_type": "stream",
     "text": [
      "100%|██████████| 210/210 [00:26<00:00,  7.82it/s]\n"
     ]
    }
   ],
   "source": [
    "cluster_vecs = []\n",
    "cluster_vecs_text_no = []\n",
    "for i, drama in enumerate(tqdm(dramas_texts)):\n",
    "    for part in drama:\n",
    "        clusters = []\n",
    "        for person, sent in part:\n",
    "            if sent not in sentence_to_vector:\n",
    "                continue # Skip empty or too long texts\n",
    "            sent_vec = sentence_to_vector[sent]\n",
    "            clusters.append(sent_vec)\n",
    "        cluster_vecs.append(clusters)\n",
    "        cluster_vecs_text_no.append(i)"
   ]
  },
  {
   "cell_type": "code",
   "execution_count": 6,
   "metadata": {
    "cellId": "ns9rugppzes0vakj2xzk0q"
   },
   "outputs": [
    {
     "name": "stderr",
     "output_type": "stream",
     "text": [
      "100%|██████████| 5869/5869 [00:00<00:00, 13480.33it/s]\n"
     ]
    }
   ],
   "source": [
    "all_ngrams = []\n",
    "\n",
    "for clusters_vec in tqdm(cluster_vecs):\n",
    "    all_ngrams.extend(ngrams_from_vector(clusters_vec, n=3))"
   ]
  },
  {
   "cell_type": "code",
   "execution_count": 7,
   "metadata": {
    "cellId": "qhzs2oojmcace1t7mjucf"
   },
   "outputs": [
    {
     "data": {
      "text/plain": [
       "198708"
      ]
     },
     "metadata": {},
     "output_type": "display_data"
    }
   ],
   "source": [
    "len(all_ngrams)"
   ]
  },
  {
   "cell_type": "code",
   "execution_count": 8,
   "metadata": {
    "cellId": "udjeaja4nxrb475yf5i3fq"
   },
   "outputs": [],
   "source": [
    "clusters_num = 44"
   ]
  },
  {
   "cell_type": "markdown",
   "metadata": {
    "cellId": "gas3oxrw6hceq1b8gub2rg"
   },
   "source": [
    "# Моя реализация сети"
   ]
  },
  {
   "cell_type": "code",
   "execution_count": 9,
   "metadata": {
    "cellId": "hs9gywsxcg9xh33i3nd59p"
   },
   "outputs": [],
   "source": [
    "cluster_vecs_text_no_train, _ = train_test_split(list(set(cluster_vecs_text_no)), test_size=0.2, random_state=42)"
   ]
  },
  {
   "cell_type": "code",
   "execution_count": 10,
   "metadata": {
    "cellId": "w1mgdhuaahmbik1uaq3i9o"
   },
   "outputs": [
    {
     "data": {
      "text/plain": [
       "(5869, 5869)"
      ]
     },
     "metadata": {},
     "output_type": "display_data"
    }
   ],
   "source": [
    "len(cluster_vecs), len(cluster_vecs_text_no)"
   ]
  },
  {
   "cell_type": "code",
   "execution_count": 11,
   "metadata": {
    "cellId": "hv63p6c6ukd24ihgcgcrd"
   },
   "outputs": [
    {
     "name": "stderr",
     "output_type": "stream",
     "text": [
      "100%|██████████| 5869/5869 [02:57<00:00, 33.10it/s] \n"
     ]
    },
    {
     "name": "stdout",
     "output_type": "stream",
     "text": [
      "145084\n"
     ]
    }
   ],
   "source": [
    "X_lstm_train, X_lstm_test, y_lstm_train, y_lstm_test = [], [], [],[]\n",
    "X_lstm_all, y_lstm_all = [], []\n",
    "X_ngrams_all = []\n",
    "for vec, text_no in zip(tqdm(cluster_vecs), cluster_vecs_text_no):\n",
    "    if len(vec) < 3:\n",
    "        continue\n",
    "    for ngrams in ngrams_from_vector(vec, n=4):\n",
    "        X_lstm = ngrams[:-1]\n",
    "        cl = cluster_model_kmeans.predict(np.array([ngrams[-1]]))[0]\n",
    "        y_lstm = cluster_model_kmeans.cluster_centers_[cl]\n",
    "#         y_lstm = ngrams[-1]\n",
    "        \n",
    "        X_ngrams_all.append(cluster_model_kmeans.predict(np.array(ngrams[:-1])))\n",
    "        X_lstm_all.append(X_lstm)\n",
    "        y_lstm_all.append(y_lstm)\n",
    "        if text_no in cluster_vecs_text_no_train:\n",
    "            X_lstm_train.append(X_lstm)\n",
    "            y_lstm_train.append(y_lstm)\n",
    "        else:\n",
    "            X_lstm_test.append(X_lstm)\n",
    "            y_lstm_test.append(y_lstm)\n",
    "\n",
    "X_lstm_train = np.array(X_lstm_train)\n",
    "X_lstm_test = np.array(X_lstm_test)\n",
    "y_lstm_train = np.array(y_lstm_train)\n",
    "y_lstm_test = np.array(y_lstm_test)\n",
    "X_lstm_all = np.array(X_lstm_all)\n",
    "y_lstm_all = np.array(y_lstm_all)\n",
    "X_ngrams_all = np.array(X_ngrams_all)\n",
    "print(len(X_lstm_train))     "
   ]
  },
  {
   "cell_type": "code",
   "execution_count": 12,
   "metadata": {
    "cellId": "2yiixs1479k87yhp83yiqi"
   },
   "outputs": [],
   "source": [
    "from tensorflow.keras.models import Sequential, Model\n",
    "from tensorflow.keras import layers"
   ]
  },
  {
   "cell_type": "code",
   "execution_count": 72,
   "metadata": {
    "cellId": "0awch73ig713tmo8jnn5hs"
   },
   "outputs": [
    {
     "name": "stdout",
     "output_type": "stream",
     "text": [
      "Model: \"sequential_3\"\n",
      "_________________________________________________________________\n",
      "Layer (type)                 Output Shape              Param #   \n",
      "=================================================================\n",
      "lstm_3 (LSTM)                (None, 128)               328192    \n",
      "_________________________________________________________________\n",
      "batch_normalization_3 (Batch (None, 128)               512       \n",
      "_________________________________________________________________\n",
      "activation_3 (Activation)    (None, 128)               0         \n",
      "_________________________________________________________________\n",
      "dense_3 (Dense)              (None, 512)               66048     \n",
      "=================================================================\n",
      "Total params: 394,752\n",
      "Trainable params: 394,496\n",
      "Non-trainable params: 256\n",
      "_________________________________________________________________\n",
      "Epoch 1/4\n",
      "4534/4534 [==============================] - 39s 8ms/step - loss: 0.0013 - cosine_similarity: 0.5148 - MSE: 0.0013 - val_loss: 2.7610e-04 - val_cosine_similarity: 0.6230 - val_MSE: 2.7610e-04\n",
      "Epoch 2/4\n",
      "4534/4534 [==============================] - 35s 8ms/step - loss: 2.7337e-04 - cosine_similarity: 0.6291 - MSE: 2.7337e-04 - val_loss: 2.7787e-04 - val_cosine_similarity: 0.6212 - val_MSE: 2.7787e-04\n",
      "Epoch 3/4\n",
      "4534/4534 [==============================] - 36s 8ms/step - loss: 2.7099e-04 - cosine_similarity: 0.6334 - MSE: 2.7099e-04 - val_loss: 2.7445e-04 - val_cosine_similarity: 0.6250 - val_MSE: 2.7445e-04\n",
      "Epoch 4/4\n",
      "4534/4534 [==============================] - 36s 8ms/step - loss: 2.6866e-04 - cosine_similarity: 0.6370 - MSE: 2.6866e-04 - val_loss: 2.7649e-04 - val_cosine_similarity: 0.6245 - val_MSE: 2.7649e-04\n"
     ]
    },
    {
     "data": {
      "text/plain": [
       "<tensorflow.python.keras.callbacks.History at 0x7ff5e84ecd10>"
      ]
     },
     "metadata": {},
     "output_type": "display_data"
    }
   ],
   "source": [
    "clusters_num = 44\n",
    "hidden_size = 10\n",
    "\n",
    "model = Sequential()\n",
    "model.add(layers.LSTM(128, input_shape=(None, 512)))\n",
    "model.add(layers.BatchNormalization())\n",
    "model.add(layers.Activation('relu'))\n",
    "model.add(layers.Dense(512))\n",
    "\n",
    "# model.add(layers.Dense(clusters_num, activation='softmax'))\n",
    "model.compile(loss='MeanSquaredError', optimizer='adam', metrics=['CosineSimilarity', 'MSE'])\n",
    "\n",
    "model.summary()\n",
    "\n",
    "model.fit(X_lstm_train, y_lstm_train, validation_data=(X_lstm_test, y_lstm_test),\n",
    "          epochs=4, verbose=1,\n",
    "         )"
   ]
  },
  {
   "cell_type": "code",
   "execution_count": 73,
   "metadata": {
    "cellId": "apmkoh5gar6yb3bn6pmpp"
   },
   "outputs": [],
   "source": [
    "predict_lstm_train = model.predict(X_lstm_train)\n",
    "predict_lstm_test = model.predict(X_lstm_test)"
   ]
  },
  {
   "cell_type": "code",
   "execution_count": 74,
   "metadata": {
    "cellId": "2jf0alk7ccqokx78si6gmr"
   },
   "outputs": [],
   "source": [
    "predict_lstm_train_cluster =cluster_model_kmeans.predict(predict_lstm_train)\n",
    "y_lstm_train_cluster =cluster_model_kmeans.predict(y_lstm_train)\n",
    "predict_lstm_test_cluster =cluster_model_kmeans.predict(predict_lstm_test)\n",
    "y_lstm_test_cluster =cluster_model_kmeans.predict(y_lstm_test)"
   ]
  },
  {
   "cell_type": "code",
   "execution_count": 75,
   "metadata": {
    "cellId": "mt3nxs45s572dtiz6b3q4"
   },
   "outputs": [
    {
     "data": {
      "text/plain": [
       "0.06877395164180751"
      ]
     },
     "metadata": {},
     "output_type": "display_data"
    }
   ],
   "source": [
    "(predict_lstm_train_cluster == y_lstm_train_cluster).mean()"
   ]
  },
  {
   "cell_type": "code",
   "execution_count": 76,
   "metadata": {
    "cellId": "zkln750hbrq8kv20e9ejyi"
   },
   "outputs": [
    {
     "data": {
      "text/plain": [
       "0.05435252020482448"
      ]
     },
     "metadata": {},
     "output_type": "display_data"
    }
   ],
   "source": [
    "(predict_lstm_test_cluster == y_lstm_test_cluster).mean()"
   ]
  },
  {
   "cell_type": "code",
   "execution_count": 77,
   "metadata": {
    "cellId": "j88t8uq45ujlytcpe8n9"
   },
   "outputs": [],
   "source": [
    "cluster_seq_emb = Model(inputs=model.layers[0].input, outputs=model.layers[-2].output)\n",
    "ngrams_vecs = cluster_seq_emb.predict(X_lstm_all)"
   ]
  },
  {
   "cell_type": "markdown",
   "metadata": {
    "cellId": "vf0xylyuf3rlq091dh1r8i"
   },
   "source": [
    "# Kmeans 2"
   ]
  },
  {
   "cell_type": "code",
   "execution_count": 78,
   "metadata": {
    "cellId": "zdzpdn68el8v6e83qk8f3"
   },
   "outputs": [],
   "source": [
    "ngram_kmeans = MiniBatchKMeans(n_clusters=25, random_state=42)\n",
    "ngram_clusters = ngram_kmeans.fit_predict(ngrams_vecs)"
   ]
  },
  {
   "cell_type": "code",
   "execution_count": 79,
   "metadata": {
    "cellId": "zpg37vtwhxh92y73f3e6"
   },
   "outputs": [
    {
     "name": "stderr",
     "output_type": "stream",
     "text": [
      "100%|██████████| 25/25 [00:03<00:00,  6.89it/s]\n"
     ]
    },
    {
     "data": {
      "image/png": "[encoded data removed]",
      "text/plain": [
       "<Figure size 2160x2160 with 25 Axes>"
      ]
     },
     "metadata": {},
     "output_type": "display_data"
    }
   ],
   "source": [
    "plt.figure(figsize=(30, 30), facecolor='w')\n",
    "plt.suptitle('Визуализация распределения кластеров фраз для триграмм', fontsize=24)\n",
    "for cluster_num in tqdm(range(25)):\n",
    "    plt.subplot(5, 5, cluster_num + 1)\n",
    "    counter = [0 for i in range(44)]\n",
    "    for row in X_ngrams_all[ngram_clusters == cluster_num]:\n",
    "        for it in row:\n",
    "            counter[it] += 1\n",
    "    counter = np.array(counter)\n",
    "    counter = counter / counter.sum()\n",
    "    \n",
    "    plt.bar(range(len(counter)) , counter)\n",
    "    plt.title('Кластер триграммы #{:02d}'.format(cluster_num))\n",
    "plt.tight_layout(rect=[0, 0.03, 1, 0.95])"
   ]
  },
  {
   "cell_type": "code",
   "execution_count": 80,
   "metadata": {
    "cellId": "0kaolioqxk5rwy0qewqhzr"
   },
   "outputs": [],
   "source": [
    "_name = 'junk/03_train_recurrent_02/'\n",
    "os.mkdir(_name)\n",
    "model.save(_name + 'tf.hdf5')\n",
    "dump_pickle(ngram_kmeans, _name + 'kmeans.pkl.zip')"
   ]
  },
  {
   "cell_type": "markdown",
   "metadata": {
    "cellId": "gz9lwmee61gjfa32azw98c"
   },
   "source": [
    "# Graph"
   ]
  },
  {
   "cell_type": "markdown",
   "metadata": {
    "cellId": "l8o780cbrjpuo3x9gz4fyp"
   },
   "source": [
    "Перебираем все кластера\n",
    "\n",
    "Берем те ngramms, последовательность которых относится к данному кластеру\n",
    "\n",
    "Строим граф - будет словарем, в ключе кортеж двух кластеров, в значении следующий"
   ]
  },
  {
   "cell_type": "code",
   "execution_count": 81,
   "metadata": {
    "cellId": "t1r78sajptkh3toj0u67nj"
   },
   "outputs": [
    {
     "data": {
      "text/plain": [
       "[(0, 44042),\n",
       " (21, 27641),\n",
       " (14, 18525),\n",
       " (17, 18077),\n",
       " (8, 9845),\n",
       " (9, 8792),\n",
       " (23, 8658),\n",
       " (3, 8368),\n",
       " (13, 5703),\n",
       " (15, 5616),\n",
       " (24, 5447),\n",
       " (1, 4838),\n",
       " (7, 4229),\n",
       " (22, 2800),\n",
       " (2, 2607),\n",
       " (4, 2482),\n",
       " (16, 2097),\n",
       " (11, 2036),\n",
       " (20, 1974),\n",
       " (5, 1970),\n",
       " (12, 1942),\n",
       " (18, 1774),\n",
       " (10, 1504),\n",
       " (19, 1439),\n",
       " (6, 1305)]"
      ]
     },
     "metadata": {},
     "output_type": "display_data"
    }
   ],
   "source": [
    "c = Counter()\n",
    "c.update(ngram_clusters)\n",
    "c.most_common()"
   ]
  },
  {
   "cell_type": "code",
   "execution_count": 82,
   "metadata": {
    "cellId": "i1biv4rq3urfh0y4ad4snl"
   },
   "outputs": [],
   "source": [
    "# кластер-диалог, кортеж-ключ, кластер-фразы\n",
    "graph = {}\n",
    "for cluster_num in range(ngram_kmeans.n_clusters):\n",
    "    graph_ngrams = X_ngrams_all[ngram_clusters == cluster_num]\n",
    "    graph[cluster_num] = defaultdict(set)\n",
    "    for row in graph_ngrams:\n",
    "        key = tuple(row[:-1])\n",
    "        val = row[-1]\n",
    "        graph[cluster_num][key].add(val)"
   ]
  },
  {
   "cell_type": "code",
   "execution_count": 83,
   "metadata": {
    "cellId": "xwx19vtia4ovj2gi79e4g"
   },
   "outputs": [],
   "source": [
    "# кластер-диалог, кластер-фразы до, кластер-фразы после\n",
    "graph_simple = {}\n",
    "for k, v in graph.items():\n",
    "    graph_simple[k] = defaultdict(set)\n",
    "    for k2, v2 in graph[k].items():\n",
    "        for key1, key2 in zip(k2, k2[1:]):\n",
    "            graph_simple[k][key1].add(key2)\n",
    "        for x in v2:\n",
    "            graph_simple[k][k2[-1]].add(x)"
   ]
  },
  {
   "cell_type": "code",
   "execution_count": 84,
   "metadata": {
    "cellId": "gdl4nonzq6r8cl0bg70i"
   },
   "outputs": [],
   "source": [
    "# кластер-диалог, название кластера фразы до, название кластера фразы после\n",
    "graph_named = {}\n",
    "for k, v in graph_simple.items():\n",
    "    graph_named[k] = {}\n",
    "    for k2, v2 in graph_simple[k].items():\n",
    "        key = cluster_names[k2]\n",
    "        val = [cluster_names[x] for x in v2]\n",
    "        graph_named[k][key] = val"
   ]
  },
  {
   "cell_type": "code",
   "execution_count": 85,
   "metadata": {
    "cellId": "37drduv1fp8n6dapmj3qq"
   },
   "outputs": [
    {
     "data": {
      "text/plain": [
       "'graph_nums.gv.pdf'"
      ]
     },
     "metadata": {},
     "output_type": "display_data"
    }
   ],
   "source": [
    "g = Digraph('G', filename='graph_nums.gv')\n",
    "for k, v in graph_simple[0].items():\n",
    "    for text in v:\n",
    "        g.edge(str(k), str(text))\n",
    "# g.view()\n",
    "g.render()  "
   ]
  },
  {
   "cell_type": "code",
   "execution_count": 86,
   "metadata": {
    "cellId": "abjhhlmhzlug8o3yaa790t"
   },
   "outputs": [
    {
     "data": {
      "text/plain": [
       "'graph_text.gv.pdf'"
      ]
     },
     "metadata": {},
     "output_type": "display_data"
    }
   ],
   "source": [
    "g = Digraph('G', filename='graph_text.gv')\n",
    "for k, v in graph_named[0].items():\n",
    "    for text in v:\n",
    "        g.edge(str(k), str(text))\n",
    "g.render() "
   ]
  },
  {
   "cell_type": "code",
   "execution_count": 87,
   "metadata": {
    "cellId": "4mnd7swxjhubo51bxoz915"
   },
   "outputs": [
    {
     "name": "stderr",
     "output_type": "stream",
     "text": [
      "100%|██████████| 210/210 [01:26<00:00,  2.43it/s]\n"
     ]
    }
   ],
   "source": [
    "# KV storage: ngram cluster -> list of text\n",
    "cluster_to_text = defaultdict(list)\n",
    "for i, drama in enumerate(tqdm(dramas_texts)):\n",
    "    for part in drama:\n",
    "        clusters = []\n",
    "        for person, sent in part:\n",
    "            if sent not in sentence_to_vector:\n",
    "                continue # Skip empty or too long texts\n",
    "            sent_vec = sentence_to_vector[sent]\n",
    "            cluster =  cluster_model_kmeans.predict(sent_vec.reshape(1, -1))[0]\n",
    "            cluster_to_text[cluster].append(sent)"
   ]
  },
  {
   "cell_type": "code",
   "execution_count": 89,
   "metadata": {
    "cellId": "xqksi7o6tze1n5z0zbdqvv"
   },
   "outputs": [],
   "source": [
    "import random\n",
    "import typing\n",
    "\n",
    "def print_random_path(graph:typing.Dict[int, typing.Iterable], count=3, node=None, seed=None):\n",
    "    r = random.Random(seed)\n",
    "    if node is None:\n",
    "        node = r.choice(list(graph.keys()))\n",
    "    for i in range(count):\n",
    "        node_name = cluster_names[node]\n",
    "        node_text = r.choice(cluster_to_text[node])\n",
    "        print('{:>4} {:<30}\\t{}\\n'.format(node, node_name, node_text))\n",
    "        node = r.choice(list(graph[node]))"
   ]
  },
  {
   "cell_type": "code",
   "execution_count": 90,
   "metadata": {
    "cellId": "6e0hrw28tv52iwj4ayc1jq"
   },
   "outputs": [
    {
     "name": "stdout",
     "output_type": "stream",
     "text": [
      "  18 \"Хорошо\", \"молодец\"           \tНу и прекрасно!\n",
      "\n",
      "   2 Ответ                         \tЯ и не спорю: он хороший человек; но это не мой идеал. Мне с ним скучно.\n",
      "\n",
      "  19 Короткий вопрос               \tА бурмистра что же? Тоже?\n",
      "\n",
      "  15 Небольшое повествование       \tЭто странно... Впрочем, я готов вам верить. Может быть, вы действительно не знаете\n",
      "            причины... Хотите, я вам скажу, зачем я уезжаю?\n",
      "\n",
      "   8 Место, направление            \tКуда же вы, господа? Вы не от меня ли бежите?\n",
      "\n"
     ]
    }
   ],
   "source": [
    "print_random_path(graph_simple[6], count=5, seed=42)"
   ]
  },
  {
   "cell_type": "code",
   "execution_count": 91,
   "metadata": {
    "cellId": "qqc5s0w8x5i5wn2jel2ki"
   },
   "outputs": [
    {
     "name": "stdout",
     "output_type": "stream",
     "text": [
      "  40 Длинное рассуждение           \tЭх, старый! Девке воля Милей всего. Ни терем твой точеный, Ни соболи, бобры, ни рукавички Строченые не дороги; на мысли У девушки Снегурочки другое: С людьми пожить; подружки нужны ей Веселые да игры до полночи, Весенние гулянки да горелки С ребятами, покуда...\n",
      "\n",
      "  23 Смерть                        \t— А по-моему так лучше убить, чем проклясть. —\n",
      "\n",
      "  11 Просьба уйти                  \tНе оставляйте нас.\n",
      "\n",
      "  29 Отрицание                     \tДа, право, нет. Неловко, совсем неловко.\n",
      "\n",
      "   7 Негативное восклицание        \tДа. (Кричит.) Гришка!\n",
      "\n"
     ]
    }
   ],
   "source": [
    "print_random_path(graph_simple[6], count=5, seed=40)"
   ]
  },
  {
   "cell_type": "code",
   "execution_count": 92,
   "metadata": {
    "cellId": "moh0s9sa5hxaf44h5h08"
   },
   "outputs": [
    {
     "data": {
      "text/plain": [
       "1.0"
      ]
     },
     "metadata": {},
     "output_type": "display_data"
    }
   ],
   "source": [
    "matrix = np.zeros(shape=(cluster_model_kmeans.n_clusters, cluster_model_kmeans.n_clusters))\n",
    "for cluster_num in range(ngram_kmeans.n_clusters):\n",
    "    for k, v in graph_simple[cluster_num].items():\n",
    "        for vv in v:\n",
    "            matrix[k, vv] = 1\n",
    "matrix.mean()"
   ]
  },
  {
   "cell_type": "markdown",
   "metadata": {
    "cellId": "ei7oe25l5u932dbcbt6hff"
   },
   "source": [
    "# Нейросетевой граф"
   ]
  },
  {
   "cell_type": "code",
   "execution_count": 93,
   "metadata": {
    "cellId": "sw1iqpkrj4nats0l23xpdh"
   },
   "outputs": [],
   "source": [
    "def print_random_dialog(start_text, count=10):\n",
    "    _texts = [start_text, ]\n",
    "    _vectors = [sentence_to_vector[start_text], ]\n",
    "\n",
    "    for i in range(count):\n",
    "        seq = np.array([_vectors])\n",
    "        new_vec = model.predict(seq)[0]\n",
    "\n",
    "        min_dist = 10**100\n",
    "        min_sent = None\n",
    "        min_vec = None\n",
    "        for sent, vec in sentence_to_vector.items():\n",
    "            d = distance.euclidean(new_vec, vec)\n",
    "            skip = False\n",
    "            for v in _vectors:\n",
    "                if (vec == v).mean() == 1:\n",
    "                    skip = True\n",
    "                    break\n",
    "            if skip:\n",
    "                continue\n",
    "            if d < min_dist:\n",
    "                min_dist = d\n",
    "                min_sent = sent\n",
    "                min_vec = vec\n",
    "        _texts.append(min_sent)\n",
    "        _vectors.append(min_vec)\n",
    "    #     _vectors.append(new_vec)\n",
    "\n",
    "    print(*_texts, sep='\\n==============\\n')"
   ]
  },
  {
   "cell_type": "code",
   "execution_count": 95,
   "metadata": {
    "cellId": "78s990sw0jkvguztfsmybq",
    "scrolled": false
   },
   "outputs": [
    {
     "name": "stdout",
     "output_type": "stream",
     "text": [
      "Какую казнь еще готовишь в сем совете? К чему иному жизнь моя тебе нужна? Спрягайся с Дарием, неверная княжна! Будь счастлива! Прости...\n",
      "==============\n",
      "Я-с. Только, Авдотья Максимовна, как собственно теперича этот барин за все свои\n",
      "                невежества не стоит того, чтобы вы его любили, так уж я буду в надежде-с.\n",
      "==============\n",
      "Прогнея... ах, постой... жестокая Прогнея! Ты с Филомелой жизнь отъемлешь у Терея, Вселяя в сердце мне собор лютейших мук; Но нет, я из твоих ее исторгну рук. Пойдем; влеки меня, мой дух преогорченный, Влеки вослед...\n",
      "==============\n",
      "Что мне, ваше благородие, уличать его?.. Нечего! Не очень они нас, стариков,\n",
      "              слушают... ты его наставляешь на хорошее: \"Делай-мо, паря, так и так...\" – так он тебя\n",
      "              только облает... Я сам, ваше благородие, питерец коренной: не супротив их, может,\n",
      "              человек был; мне тоже горько переносить от них это, – помилуйте!\n",
      "                (Плачет.)\n",
      "\n",
      "==============\n",
      "Господа! господа!.. Копья в упор!.. Пришпоривай!..\n",
      "==============\n",
      "Ты побледнел, дрожишь... о, боже!\n",
      "==============\n",
      "Гм, государь!\n",
      "==============\n",
      "Горе тебе, дево!\n",
      "==============\n",
      "Экая ты заноза, сударыня!\n",
      "==============\n",
      "Стыдитесь, сударыня!\n",
      "==============\n",
      "Гляди, баба, нарвёшься!\n",
      "\n",
      "=========================================\n",
      "\n",
      "Сегодня завернул некстати я домой: Придется утро всё беседовать с женой. Какие странности! люблю ее по чести, Меж тем приятнее, когда мы с ней не вместе Однако, впервые не мною найдено, Что вскоре надоест одно и всё одно.\n",
      "==============\n",
      "Нет, Грубей! Не обольщайся тем. Престол Сибири для меня ничто. Я чту добродетель выше\n",
      "              всякого престола. Ты дивишься? Дивись! Для разбойника непонятно, что подобный ему\n",
      "              разбойник умеет боготворить добродетель. Мщение привлекло меня к злодеянию, а\n",
      "              раскаяние к победам. Я сын отечества и хочу служить ему самым моим преступлением.\n",
      "              Никогда, может быть, ни одно отечество не видало столь ревностного сына, каков Ермак и\n",
      "              в самом своем злодеянии. Самая эта ревность сделала меня злодеем. Ты знаешь, что\n",
      "              Согдай коварствами своими достиг верховного начальства над казаками. Я не искал сего\n",
      "              начальства, но оно мне принадлежало. Я стерпел унижение повиноваться недостойному, но\n",
      "              не мог стерпеть презрения к своим собратиям, не мог стерпеть прибеглых к Согдаю\n",
      "              иностранцев без имени и без достоинств. Согдай, не смея взирать на достоинство,\n",
      "              окружил себя этими подлыми пришлецами, вознес их, и эти бродяги довершили унижение\n",
      "              коренных казаков. Согдай способствовал пришлецам заграбить имущество наше и поработить\n",
      "              почти всех нас нищете и презрению. Я возроптал на сие, а Согдай оклеветал меня перед\n",
      "              царем Московским и подверг меня суду казацкаго Сейма. Кто ж были судии мои? Ни заслуги\n",
      "              отца моего, неизвестные иноплеменным, ни моя служба, ничто не уважено. Мое имение\n",
      "              нужно было Согдаю с его скопищем бродяг. Их большинство решило приговор мой к смерти.\n",
      "              Я ушел, сделался разбойником. Ты знаешь, умерщвлял ли я кого-нибудь, кроме сих пиявиц\n",
      "              иностранных, которые, подобно саранче, бегут поедать цветущее отечество наше.\n",
      "==============\n",
      "Ужель не видишь ты души моей страданья?.. По мере мук моих столь мало клятвы сей! Ах! если бы предстал очам моим злодей! С каким восторгом я, отмщением пылая, В преступну грудь его стократ мой меч вонзая, Лютейша изверга до капли кровь пролил!.. Иль нет!.. Бог видит, я злодею всё б простил, Когда бы отдал мне он дочь мою несчастну, Престал бы ненависть питать к нему ужасну, Моля, да счастье бог пошлет ему с небес. О ты, виновница моих стенаний, слез! Почто не можешь зреть, сколь страждет твой родитель? Великий государь! будь старцу покровитель! Монарх! несчастного молениям внуши И помощи своей в час лютый не лиши!.. Вся жизнь моя прошла с злосчастием в бореньи, Но с твердостью пренес я все судьбы гоненьи; Вотще и лютый рок разил меня всегда: Инслар не упадал под роком никогда! Се непреклонное чело под сединою... Но я отец, узри, как скорбь владеет мною! В отчаяньи, в тоске упасть в сей час готов Пред тем, кто пролил здесь реками нашу кровь; Суди, сколь лютую терплю я в сердце муку, Что даже днесь лобзать готов кроваву руку!.. Сим унижением ты скорбь мою измерь, О государь! будь благ, смягчись, отдай мне дщерь!..\n",
      "==============\n",
      "Умолкни, подлый беглец! Кучум возгнушался бы собою, если б долее стал внимать тебе.\n",
      "              Никогда предатель не находил убежища в моем царстве. Никогда слух мой не был приклонен\n",
      "              к голосу изменников... Возьмите его! (Стража берет его.) Нарсим! Ступай\n",
      "              в стан неприятелей, начальник их ждет ответа. Скажи ему, что я избираю сражение. Отдай\n",
      "              ему беглеца сего, окованного тяжкими железами. Скажи, что он предлагал мне средства к\n",
      "              победе, но я отвергнул их. Коварство и измена никогда не осквернят моего оружия. Я не\n",
      "              унижусь до того, чтоб победа соделала мне стыд. Могущество руки моей, храбрость и\n",
      "              любовь народа моего всегда сопровождали меня на брань. Вот средства к победам! Иначе\n",
      "              торжествовать над неприятелем постыдно.\n",
      "==============\n",
      " Варварствуй, терзай меня, терзай, На все злочестия, свирепствуя, дерзай! Ты благо каждого, мучитель, ненавидишь! О боже! Ты его дела ужасны видишь, Тебе известно то, каков народу он, Всечасно от него ты слышишь бедных стон. Проникни, каковы сии мне злы минуты, Взгляни со небеси на горести толь люты, Взгляни на трепет мой, взгляни на токи глаз, Услышь моление, услышь мой томный глас, Пошли мучителю достойную награду И дай несчастнейшей хоть малую отраду!\n",
      "==============\n",
      "Свершилося! Так вот ты, царь Иван, Пред кем тряслась так долго Русь! Бессилен, Беспомощен лежишь ты, недвижим, И посреди твоих сокровищ беден! Чего же мы стоим и ждем, бояре? Во прахе ли пред нами быть тому, Пред кем полвека мы лежали в прахе? Иль страшно вам коснуться до него? Не бойтеся! Уж не откроет он Своих очей! Уж острого жезла Не схватит длань бессильная, и казни Не изрекут холодные уста!\n",
      "==============\n",
      "Ах, князь!..\n",
      "==============\n",
      "Слышим, государь.\n",
      "==============\n",
      "Горе тебе, дево!\n",
      "==============\n",
      "Ты побледнел, дрожишь... о, боже!\n",
      "==============\n",
      "Гм, государь!\n",
      "\n",
      "=========================================\n",
      "\n",
      "Здравствуйте, Василий Петрович...\n",
      "==============\n",
      "Ах, Василиса Петровна!\n",
      "==============\n",
      "Евгения Павловна, нехорошо... Ей-Богу, нехорошо! Прекрасная вы девица и сурьезная, а\n",
      "              все же нехорошо. Давеча Аметистова обидели, теперь вот господина Веленьева\n",
      "              обижаете...\n",
      "==============\n",
      "Ах, какой ты вздор городишь, Устинья Наумовна! Ну с чего это ты взяла?\n",
      "==============\n",
      "Господа! господа!.. Копья в упор!.. Пришпоривай!..\n",
      "==============\n",
      "Ах, дрянь девка! Вот дрянь!\n",
      "==============\n",
      "Ты побледнел, дрожишь... о, боже!\n",
      "==============\n",
      "Гм, государь!\n",
      "==============\n",
      "Горе тебе, дево!\n",
      "==============\n",
      "Экая ты заноза, сударыня!\n",
      "==============\n",
      "Стыдитесь, сударыня!\n",
      "\n",
      "=========================================\n",
      "\n",
      "Кажется, мадам Григри, которая была у тетушки нашею гувернанткою, ничего не упустила\n",
      "            для нашего воспитания.\n",
      "==============\n",
      "Нет, сударь, я не люблю, чтоб для меня принуждались. Я люблю, чтоб со мною обходились\n",
      "              вольно; и, с позволения вашего, пособлю вас вывесть.\n",
      "==============\n",
      "Нет, нет; иначе бы я не была достойна тебя. Ты мой, и никто нас не разлучит. Вадим,\n",
      "              ты искал страстной любви... счастливец, ты ее нашел! (Бросается на шею к\n",
      "                Вадиму.)\n",
      "\n",
      "==============\n",
      "Эх, сударь!.. как будто вы не знаете!.. Вы притворяетесь, мне кажется.\n",
      "==============\n",
      "Ах, сударь, вы меня слышали... я сам с собою рассуждал...\n",
      "==============\n",
      "Ну что, надел?\n",
      "==============\n",
      "Гм, государь!\n",
      "==============\n",
      "Беда!..\n",
      "==============\n",
      "Слышим, государь.\n",
      "==============\n",
      "Господа!\n",
      "==============\n",
      "Благословите, пастор!\n",
      "\n",
      "=========================================\n",
      "\n",
      "Благородный! Вы благородный?\n",
      "==============\n",
      "Нет, сударь, я не люблю, чтоб для меня принуждались. Я люблю, чтоб со мною обходились\n",
      "              вольно; и, с позволения вашего, пособлю вас вывесть.\n",
      "==============\n",
      "Да я, сударыня, того не потерплю, Чтоб, безрассудством вы толико ослепленны, Могли бы своего быть счастия лишенны, Которое хочу я вам собою дать. Иных ведь надобно и к счастью принуждать. Я вашей нелюбви нимало не боюся И, не смотря на вас, на вас тотчас женюся. Когда не можно мне в задаток милым быть, Вы после станете ж таки меня любить, Поверьте, станете, за это я беруся.\n",
      "==============\n",
      "Что мне, ваше благородие, уличать его?.. Нечего! Не очень они нас, стариков,\n",
      "              слушают... ты его наставляешь на хорошее: \"Делай-мо, паря, так и так...\" – так он тебя\n",
      "              только облает... Я сам, ваше благородие, питерец коренной: не супротив их, может,\n",
      "              человек был; мне тоже горько переносить от них это, – помилуйте!\n",
      "                (Плачет.)\n",
      "\n",
      "==============\n",
      "Господа! господа!.. Копья в упор!.. Пришпоривай!..\n",
      "==============\n",
      "Ты побледнел, дрожишь... о, боже!\n",
      "==============\n",
      "Гм, государь!\n",
      "==============\n",
      "Горе тебе, дево!\n",
      "==============\n",
      "Экая ты заноза, сударыня!\n",
      "==============\n",
      "Стыдитесь, сударыня!\n",
      "==============\n",
      "Гляди, баба, нарвёшься!\n",
      "\n",
      "=========================================\n",
      "\n",
      "Да, правда.\n",
      "==============\n",
      "Нет, ты сказывай! Мне лестно это слышать от тебя. Хочу я знать, что есть такое во\n",
      "              мне, что меня такая красавица полюбила? Аль умом, аль чем тебе по нраву пришелся?\n",
      "==============\n",
      "Ты все одно мне твердишь; разве я тебе как ни есть кажусь... бестолковым?\n",
      "==============\n",
      "Эх, сударь!.. как будто вы не знаете!.. Вы притворяетесь, мне кажется.\n",
      "==============\n",
      "Ах, ах! Вы меня до обморока доведете. Оскорбление, насмешки...\n",
      "==============\n",
      "Ах! Черт возьми!..\n",
      "==============\n",
      "Ты побледнел, дрожишь... о, боже!\n",
      "==============\n",
      "Гм, государь!\n",
      "==============\n",
      "Горе тебе, дево!\n",
      "==============\n",
      "Экая ты заноза, сударыня!\n",
      "==============\n",
      "Стыдитесь, сударыня!\n",
      "\n",
      "=========================================\n",
      "\n",
      "Я знаю, знаю, что вы жили очень весело.\n",
      "==============\n",
      "И для того-то я жениться не намерен. А знаете ли что? понравилася мне Ужасно мысль ее.\n",
      "==============\n",
      "Да ты почем знаешь, может я и сам хочу женить его на Кругловой, и передумывать мне\n",
      "              нечего. Может быть, я тебя обманул!\n",
      "==============\n",
      "Эх, сударь!.. как будто вы не знаете!.. Вы притворяетесь, мне кажется.\n",
      "==============\n",
      "Ах, сударь, вы меня слышали... я сам с собою рассуждал...\n",
      "==============\n",
      "Ну что, надел?\n",
      "==============\n",
      "Гм, государь!\n",
      "==============\n",
      "Беда!..\n",
      "==============\n",
      "Слышим, государь.\n",
      "==============\n",
      "Господа!\n",
      "==============\n",
      "Благословите, пастор!\n",
      "\n",
      "=========================================\n",
      "\n",
      "У меня деньги были, твой же отец взял.\n",
      "==============\n",
      "Нет, нет; иначе бы я не была достойна тебя. Ты мой, и никто нас не разлучит. Вадим,\n",
      "              ты искал страстной любви... счастливец, ты ее нашел! (Бросается на шею к\n",
      "                Вадиму.)\n",
      "\n",
      "==============\n",
      "Ну нет, Миша… на этот счет позволь уж мне… того… распорядиться. Эдак гость твой,\n",
      "            пожалуй, подумает бог знает что; это что, скажет, за степная ворона такая?.. Нет, я,\n",
      "            брат… я ведь тоже с амбицией, воля твоя.\n",
      "==============\n",
      "Эх, сударь!.. как будто вы не знаете!.. Вы притворяетесь, мне кажется.\n",
      "==============\n",
      "Ах, сударь, вы меня слышали... я сам с собою рассуждал...\n",
      "==============\n",
      "Ну что, надел?\n",
      "==============\n",
      "Гм, государь!\n",
      "==============\n",
      "Боже!\n",
      "==============\n",
      "Слышим, государь.\n",
      "==============\n",
      "Господа!\n",
      "==============\n",
      "Благословите, пастор!\n",
      "\n",
      "=========================================\n",
      "\n",
      "Нимало; Вы милы, он влюблен – за чем же дело стало!\n",
      "==============\n",
      "Нет, нет; иначе бы я не была достойна тебя. Ты мой, и никто нас не разлучит. Вадим,\n",
      "              ты искал страстной любви... счастливец, ты ее нашел! (Бросается на шею к\n",
      "                Вадиму.)\n",
      "\n",
      "==============\n",
      "Да вот я пожалею-с... Эх, Анисья Тихоновна, неподобное вы задумали: парня-то вы\n",
      "              напрасно тоже загубите... Васю... слабенек он, не вступил еще в настоящий разум...\n",
      "==============\n",
      "Эх, сударь!.. как будто вы не знаете!.. Вы притворяетесь, мне кажется.\n",
      "==============\n",
      "Ах, сударь, вы меня слышали... я сам с собою рассуждал...\n",
      "==============\n",
      "Ну что, надел?\n",
      "==============\n",
      "Гм, государь!\n",
      "==============\n",
      "Беда!..\n",
      "==============\n",
      "Слышим, государь.\n",
      "==============\n",
      "Господа!\n",
      "==============\n",
      "Благословите, пастор!\n",
      "\n",
      "=========================================\n",
      "\n",
      "Да ты говоришь-то что-то страшно!\n",
      "==============\n",
      "Нет, сударь, я не люблю, чтоб для меня принуждались. Я люблю, чтоб со мною обходились\n",
      "              вольно; и, с позволения вашего, пособлю вас вывесть.\n",
      "==============\n",
      "Ну, вот тебе юбовь!  Пьеесная, увы! За вейность эдаку мне быть без гоёвы: Застьеит он меня, отказ его твой взбесит.\n",
      "==============\n",
      "Что мне, ваше благородие, уличать его?.. Нечего! Не очень они нас, стариков,\n",
      "              слушают... ты его наставляешь на хорошее: \"Делай-мо, паря, так и так...\" – так он тебя\n",
      "              только облает... Я сам, ваше благородие, питерец коренной: не супротив их, может,\n",
      "              человек был; мне тоже горько переносить от них это, – помилуйте!\n",
      "                (Плачет.)\n",
      "\n",
      "==============\n",
      "Господа! господа!.. Копья в упор!.. Пришпоривай!..\n",
      "==============\n",
      "Ты побледнел, дрожишь... о, боже!\n",
      "==============\n",
      "Гм, государь!\n",
      "==============\n",
      "Горе тебе, дево!\n",
      "==============\n",
      "Экая ты заноза, сударыня!\n",
      "==============\n",
      "Стыдитесь, сударыня!\n",
      "==============\n",
      "Гляди, баба, нарвёшься!\n",
      "\n",
      "=========================================\n",
      "\n"
     ]
    }
   ],
   "source": [
    "for i in range(10):\n",
    "    node = random.choice(list(graph_simple[0].keys()))\n",
    "    text = random.choice(cluster_to_text[node])\n",
    "    print_random_dialog(text)\n",
    "    print('\\n=========================================\\n')"
   ]
  },
  {
   "cell_type": "markdown",
   "metadata": {
    "cellId": "i8phovhyoc8py69pa9y9f"
   },
   "source": [
    "В данной модели на вход подается последовательность векторов предложений, на выходе вектор следующей фразы.\n",
    "\n",
    "Модель дополнительно проверена метрикой совпрадения кластеров.\n",
    "Результат несколько ниже предыдущей модели, но лучше случайного.\n",
    "Датасет прошел проверку на переобучение. Можно получить accuracy 0,98.\n",
    "\n",
    "В новой реализации графа не составляет труда выбрать определенное следующее предложение.\n",
    "Дополнительно были убраны повторы и зацикливания.\n",
    "Замечено, что диалог сходится к некоторому одному пространству фраз."
   ]
  },
  {
   "cell_type": "code",
   "execution_count": null,
   "metadata": {},
   "outputs": [],
   "source": []
  }
 ],
 "metadata": {
  "kernelspec": {
   "display_name": "Python 3",
   "language": "python",
   "name": "python3"
  },
  "language_info": {
   "codemirror_mode": {
    "name": "ipython",
    "version": 3
   },
   "file_extension": ".py",
   "mimetype": "text/x-python",
   "name": "python",
   "nbconvert_exporter": "python",
   "pygments_lexer": "ipython3",
   "version": "3.8.5"
  },
  "notebookId": "21bad8dc-18cc-475e-b953-a42d85d7ad5e"
 },
 "nbformat": 4,
 "nbformat_minor": 4
}
