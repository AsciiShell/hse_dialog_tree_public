{
 "cells": [
  {
   "cell_type": "code",
   "execution_count": null,
   "metadata": {
    "colab": {
     "base_uri": "https://localhost:8080/"
    },
    "executionInfo": {
     "elapsed": 28293,
     "status": "ok",
     "timestamp": 1618776318626,
     "user": {
      "displayName": "Kak TyC",
      "photoUrl": "https://lh3.googleusercontent.com/a-/AOh14GgCmo0EpyeZ3sIs-leTsI0Lv6X5VwFJxZRz6bp76Q=s64",
      "userId": "10975181951625505822"
     },
     "user_tz": -180
    },
    "id": "y0DILoQq0gVh",
    "outputId": "5e9f2de5-4614-47f7-c51b-137370df3ccc"
   },
   "outputs": [],
   "source": [
    "from google.colab import drive\n",
    "drive.mount('/content/drive')\n",
    "\n",
    "import os\n",
    "os.chdir('/content/drive/Shareddrives/Диплом Дерево диалогов/')\n"
   ]
  },
  {
   "cell_type": "code",
   "execution_count": null,
   "metadata": {
    "cellId": "186xsvnqwtt1ayeexx77rg",
    "colab": {
     "base_uri": "https://localhost:8080/"
    },
    "executionInfo": {
     "elapsed": 2597,
     "status": "ok",
     "timestamp": 1618776321236,
     "user": {
      "displayName": "Kak TyC",
      "photoUrl": "https://lh3.googleusercontent.com/a-/AOh14GgCmo0EpyeZ3sIs-leTsI0Lv6X5VwFJxZRz6bp76Q=s64",
      "userId": "10975181951625505822"
     },
     "user_tz": -180
    },
    "id": "kWgQkKLT0ehs",
    "outputId": "4b17a6e1-40bb-4ea5-8ee6-c13e14b419fd"
   },
   "outputs": [],
   "source": [
    "import uuid\n",
    "import gc\n",
    "\n",
    "import pandas as pd\n",
    "from experiment_collection import ExperimentCollectionRemote, Experiment\n",
    "import tensorflow as tf\n",
    "from tensorflow.keras import layers\n",
    "from tensorflow.keras.models import Model\n",
    "\n",
    "from hse_dialog_tree.utils.cpu import get_processor_info\n",
    "from hse_dialog_tree.utils.files import load_pickle\n",
    "\n",
    "LANG = 'rus'\n",
    "print(get_processor_info())"
   ]
  },
  {
   "cell_type": "code",
   "execution_count": null,
   "metadata": {
    "executionInfo": {
     "elapsed": 2590,
     "status": "ok",
     "timestamp": 1618776321239,
     "user": {
      "displayName": "Kak TyC",
      "photoUrl": "https://lh3.googleusercontent.com/a-/AOh14GgCmo0EpyeZ3sIs-leTsI0Lv6X5VwFJxZRz6bp76Q=s64",
      "userId": "10975181951625505822"
     },
     "user_tz": -180
    },
    "id": "CfXrZhzn0eh2"
   },
   "outputs": [],
   "source": [
    "exps = ExperimentCollectionRemote('HOST',  \n",
    "                                  '03_recurrent3',\n",
    "                                  'TOKEN', \n",
    "                                 credentials=True)"
   ]
  },
  {
   "cell_type": "code",
   "execution_count": null,
   "metadata": {
    "executionInfo": {
     "elapsed": 25930,
     "status": "ok",
     "timestamp": 1618776344585,
     "user": {
      "displayName": "Kak TyC",
      "photoUrl": "https://lh3.googleusercontent.com/a-/AOh14GgCmo0EpyeZ3sIs-leTsI0Lv6X5VwFJxZRz6bp76Q=s64",
      "userId": "10975181951625505822"
     },
     "user_tz": -180
    },
    "id": "pYVKXLE80eh4"
   },
   "outputs": [],
   "source": [
    "X_lstm_train, y_lstm_train, X_lstm_test, y_lstm_test = load_pickle('lite/03_train_recurrent2.pkl.zip')\n",
    "cluster_model_kmeans = load_pickle('steps/03_kmeans/kmeans_v2_044.pkl.zip')"
   ]
  },
  {
   "cell_type": "code",
   "execution_count": null,
   "metadata": {
    "executionInfo": {
     "elapsed": 27962,
     "status": "ok",
     "timestamp": 1618776346624,
     "user": {
      "displayName": "Kak TyC",
      "photoUrl": "https://lh3.googleusercontent.com/a-/AOh14GgCmo0EpyeZ3sIs-leTsI0Lv6X5VwFJxZRz6bp76Q=s64",
      "userId": "10975181951625505822"
     },
     "user_tz": -180
    },
    "id": "biNen9iM0eh4"
   },
   "outputs": [],
   "source": [
    "y_lstm_train_cluster = cluster_model_kmeans.predict(y_lstm_train)\n",
    "y_lstm_test_cluster = cluster_model_kmeans.predict(y_lstm_test)"
   ]
  },
  {
   "cell_type": "code",
   "execution_count": null,
   "metadata": {
    "executionInfo": {
     "elapsed": 27956,
     "status": "ok",
     "timestamp": 1618776346625,
     "user": {
      "displayName": "Kak TyC",
      "photoUrl": "https://lh3.googleusercontent.com/a-/AOh14GgCmo0EpyeZ3sIs-leTsI0Lv6X5VwFJxZRz6bp76Q=s64",
      "userId": "10975181951625505822"
     },
     "user_tz": -180
    },
    "id": "Gz--jplA0eh5"
   },
   "outputs": [],
   "source": [
    "def make_experiment(model_creator, model_descr, exps, epochs=3):\n",
    "    # for loss in ['CosineSimilarity', 'MeanSquaredError']:\n",
    "    # for loss in ['MeanSquaredError']:\n",
    "    for loss in ['CosineSimilarity']:\n",
    "        model = model_creator(loss)\n",
    "        for epoch in range(epochs):\n",
    "            h = model.fit(X_lstm_train, y_lstm_train, \n",
    "                          validation_data=(X_lstm_test, y_lstm_test), \n",
    "                          epochs=epoch + 1, initial_epoch=epoch, verbose=1)\n",
    "\n",
    "            predict_lstm_train = model.predict(X_lstm_train, batch_size=64)\n",
    "            predict_lstm_test = model.predict(X_lstm_test, batch_size=64)\n",
    "            predict_lstm_train_cluster = cluster_model_kmeans.predict(predict_lstm_train)\n",
    "            predict_lstm_test_cluster = cluster_model_kmeans.predict(predict_lstm_test)\n",
    "\n",
    "            eq_train = (predict_lstm_train_cluster == y_lstm_train_cluster).mean()\n",
    "            eq_test = (predict_lstm_test_cluster == y_lstm_test_cluster).mean()\n",
    "\n",
    "            exp = Experiment(uuid.uuid4().__str__(), \n",
    "                     {\n",
    "                         'architecture': model_descr,\n",
    "                         'loss': loss,\n",
    "                         'epochs': epoch + 1,\n",
    "                     },\n",
    "                    {\n",
    "                        'cos': h.history['cosine_similarity'][0],\n",
    "                        'mse': h.history['MSE'][0],\n",
    "                        'eq': eq_train,\n",
    "                        'val_cos': h.history['val_cosine_similarity'][0],\n",
    "                        'val_mse': h.history['val_MSE'][0],\n",
    "                        'val_eq': eq_test,\n",
    "                    }\n",
    "                    )\n",
    "            exps.add_experiment(exp)\n",
    "            del predict_lstm_train, predict_lstm_test, predict_lstm_train_cluster, predict_lstm_test_cluster, eq_train, eq_test, exp\n",
    "            gc.collect()"
   ]
  },
  {
   "cell_type": "code",
   "execution_count": null,
   "metadata": {
    "colab": {
     "base_uri": "https://localhost:8080/"
    },
    "executionInfo": {
     "elapsed": 315151,
     "status": "ok",
     "timestamp": 1618776669562,
     "user": {
      "displayName": "Kak TyC",
      "photoUrl": "https://lh3.googleusercontent.com/a-/AOh14GgCmo0EpyeZ3sIs-leTsI0Lv6X5VwFJxZRz6bp76Q=s64",
      "userId": "10975181951625505822"
     },
     "user_tz": -180
    },
    "id": "VnHlMvyFlpe7",
    "outputId": "40981aa6-d914-43b2-f738-d99d7dd6dd7d"
   },
   "outputs": [],
   "source": [
    "def make_model(loss):\n",
    "    inp = layers.Input(shape=(None, 512))\n",
    "    x = inp\n",
    "    x = layers.LSTM(512)(x)\n",
    "    model = Model(inputs=inp, outputs=x, name='03_recurrent')\n",
    "    model.compile(loss=loss, optimizer='adam', metrics=['CosineSimilarity', 'MSE'])\n",
    "    model.summary()\n",
    "    return model\n",
    "\n",
    "make_experiment(make_model, 'LSTM512', exps, 10)"
   ]
  },
  {
   "cell_type": "code",
   "execution_count": null,
   "metadata": {
    "colab": {
     "base_uri": "https://localhost:8080/"
    },
    "executionInfo": {
     "elapsed": 427055,
     "status": "ok",
     "timestamp": 1618768896669,
     "user": {
      "displayName": "Kak TyC",
      "photoUrl": "https://lh3.googleusercontent.com/a-/AOh14GgCmo0EpyeZ3sIs-leTsI0Lv6X5VwFJxZRz6bp76Q=s64",
      "userId": "10975181951625505822"
     },
     "user_tz": -180
    },
    "id": "g4weEuZEo-Jn",
    "outputId": "c21b95d3-1963-4c81-dbab-4ceae8bca5da"
   },
   "outputs": [],
   "source": [
    "def make_model(loss):\n",
    "    inp = layers.Input(shape=(None, 512))\n",
    "    x = inp\n",
    "    x = layers.Attention(use_scale=True)([x, x])\n",
    "    x = layers.Bidirectional(layers.LSTM(128,))(x)\n",
    "    x = layers.Dropout(0.1)(x)\n",
    "    x = layers.Dense(512)(x)\n",
    "    \n",
    "    model = Model(inputs=inp, outputs=x, name='03_recurrent')\n",
    "    model.compile(loss=loss, optimizer='adam', metrics=['CosineSimilarity', 'MSE'])\n",
    "    model.summary()\n",
    "    return model\n",
    "\n",
    "make_experiment(make_model, 'Attention BiLSTM(128) Drop0.1 Dense512', exps, 10)"
   ]
  },
  {
   "cell_type": "code",
   "execution_count": null,
   "metadata": {
    "colab": {
     "base_uri": "https://localhost:8080/"
    },
    "executionInfo": {
     "elapsed": 773573,
     "status": "ok",
     "timestamp": 1618769247639,
     "user": {
      "displayName": "Kak TyC",
      "photoUrl": "https://lh3.googleusercontent.com/a-/AOh14GgCmo0EpyeZ3sIs-leTsI0Lv6X5VwFJxZRz6bp76Q=s64",
      "userId": "10975181951625505822"
     },
     "user_tz": -180
    },
    "id": "-n5X_5914qob",
    "outputId": "e5a5bc20-b96b-4282-e03a-b428eff4c16f"
   },
   "outputs": [],
   "source": [
    "def make_model(loss):\n",
    "    inp = layers.Input(shape=(None, 512))\n",
    "    x = inp\n",
    "    x = layers.Bidirectional(layers.LSTM(256))(x)\n",
    "    model = Model(inputs=inp, outputs=x, name='03_recurrent')\n",
    "    model.compile(loss=loss, optimizer='adam', metrics=['CosineSimilarity', 'MSE'])\n",
    "    model.summary()\n",
    "    return model\n",
    "\n",
    "make_experiment(make_model, 'BiLSTM256', exps, 10)\n"
   ]
  },
  {
   "cell_type": "code",
   "execution_count": null,
   "metadata": {
    "colab": {
     "base_uri": "https://localhost:8080/"
    },
    "executionInfo": {
     "elapsed": 1032495,
     "status": "ok",
     "timestamp": 1618769507983,
     "user": {
      "displayName": "Kak TyC",
      "photoUrl": "https://lh3.googleusercontent.com/a-/AOh14GgCmo0EpyeZ3sIs-leTsI0Lv6X5VwFJxZRz6bp76Q=s64",
      "userId": "10975181951625505822"
     },
     "user_tz": -180
    },
    "id": "qcLGWf0B4sFo",
    "outputId": "2be92f72-7bf6-437c-be40-87c73923b3c1"
   },
   "outputs": [],
   "source": [
    "def make_model(loss):\n",
    "    inp = layers.Input(shape=(None, 512))\n",
    "    x = inp\n",
    "    x = layers.GRU(512)(x)\n",
    "    model = Model(inputs=inp, outputs=x, name='03_recurrent')\n",
    "    model.compile(loss=loss, optimizer='adam', metrics=['CosineSimilarity', 'MSE'])\n",
    "    model.summary()\n",
    "    return model\n",
    "\n",
    "make_experiment(make_model, 'GRU512', exps, 10)\n"
   ]
  },
  {
   "cell_type": "code",
   "execution_count": null,
   "metadata": {
    "colab": {
     "base_uri": "https://localhost:8080/"
    },
    "executionInfo": {
     "elapsed": 1365378,
     "status": "ok",
     "timestamp": 1618769842876,
     "user": {
      "displayName": "Kak TyC",
      "photoUrl": "https://lh3.googleusercontent.com/a-/AOh14GgCmo0EpyeZ3sIs-leTsI0Lv6X5VwFJxZRz6bp76Q=s64",
      "userId": "10975181951625505822"
     },
     "user_tz": -180
    },
    "id": "HsdwL9OC43ZS",
    "outputId": "b14d2f0d-4077-411d-fffe-9f2c01378a0e"
   },
   "outputs": [],
   "source": [
    "\n",
    "def make_model(loss):\n",
    "    inp = layers.Input(shape=(None, 512))\n",
    "    x = inp\n",
    "    x = layers.Bidirectional(layers.GRU(256))(x)\n",
    "    model = Model(inputs=inp, outputs=x, name='03_recurrent')\n",
    "    model.compile(loss=loss, optimizer='adam', metrics=['CosineSimilarity', 'MSE'])\n",
    "    model.summary()\n",
    "    return model\n",
    "\n",
    "make_experiment(make_model, 'BiGRU256', exps, 10)"
   ]
  },
  {
   "cell_type": "code",
   "execution_count": null,
   "metadata": {
    "id": "_1rAntu1t3cE"
   },
   "outputs": [],
   "source": [
    "def point_wise_feed_forward_network(d_model, dff):\n",
    "    return tf.keras.Sequential([\n",
    "      tf.keras.layers.Dense(dff, activation='relu'),  # (batch_size, seq_len, dff)\n",
    "      tf.keras.layers.Dense(d_model)  # (batch_size, seq_len, d_model)\n",
    "    ])\n",
    "\n",
    "class EncoderLayer(tf.keras.layers.Layer):\n",
    "    def __init__(self, d_model, num_heads, dff, rate=0.1):\n",
    "        super(EncoderLayer, self).__init__()\n",
    "\n",
    "        self.mha = layers.MultiHeadAttention(num_heads, d_model)\n",
    "        self.ffn = point_wise_feed_forward_network(d_model, dff)\n",
    "\n",
    "        self.layernorm1 = tf.keras.layers.LayerNormalization(epsilon=1e-6)\n",
    "        self.layernorm2 = tf.keras.layers.LayerNormalization(epsilon=1e-6)\n",
    "\n",
    "        self.dropout1 = tf.keras.layers.Dropout(rate)\n",
    "        self.dropout2 = tf.keras.layers.Dropout(rate)\n",
    "\n",
    "    def call(self, x, training):\n",
    "        attn_output = self.mha(x, x, x)  # (batch_size, input_seq_len, d_model)\n",
    "        attn_output = self.dropout1(attn_output, training=training)\n",
    "        out1 = self.layernorm1(x + attn_output)  # (batch_size, input_seq_len, d_model)\n",
    "        ffn_output = self.ffn(out1)  # (batch_size, input_seq_len, d_model)\n",
    "        ffn_output = self.dropout2(ffn_output, training=training)\n",
    "        out2 = self.layernorm2(out1 + ffn_output)  # (batch_size, input_seq_len, d_model)\n",
    "        return out2"
   ]
  },
  {
   "cell_type": "code",
   "execution_count": null,
   "metadata": {
    "colab": {
     "base_uri": "https://localhost:8080/"
    },
    "executionInfo": {
     "elapsed": 124646,
     "status": "ok",
     "timestamp": 1618646597328,
     "user": {
      "displayName": "Kak TyC",
      "photoUrl": "https://lh3.googleusercontent.com/a-/AOh14GgCmo0EpyeZ3sIs-leTsI0Lv6X5VwFJxZRz6bp76Q=s64",
      "userId": "10975181951625505822"
     },
     "user_tz": -180
    },
    "id": "PJEckeHIt5uz",
    "outputId": "e0eeb9e5-b18e-499b-aeb8-ea966340d498"
   },
   "outputs": [],
   "source": [
    "def make_model(loss):\n",
    "    inp = layers.Input(shape=(None, 512))\n",
    "    x = inp\n",
    "    x = EncoderLayer(512, 16, 8)(x) \n",
    "    x = EncoderLayer(512, 16, 8)(x) \n",
    "    x = EncoderLayer(512, 16, 8)(x) \n",
    "    x = EncoderLayer(512, 16, 8)(x)     \n",
    "    x = layers.GlobalAveragePooling1D()(x)\n",
    "    model = Model(inputs=inp, outputs=x, name='03_recurrent')\n",
    "    model.compile(loss=loss, optimizer='adam', metrics=['CosineSimilarity', 'MSE'])\n",
    "    model.summary()\n",
    "    return model\n",
    "\n",
    "make_experiment(make_model, 'EncoderLayer(512,16,8)x4 GAP', exps, 10)"
   ]
  },
  {
   "cell_type": "code",
   "execution_count": null,
   "metadata": {
    "id": "1-qLe06LPPTL"
   },
   "outputs": [],
   "source": []
  }
 ],
 "metadata": {
  "accelerator": "GPU",
  "colab": {
   "collapsed_sections": [],
   "name": "03_train_recurrent_03_lite2.ipynb",
   "provenance": []
  },
  "kernelspec": {
   "display_name": "Python 3",
   "language": "python",
   "name": "python3"
  },
  "language_info": {
   "codemirror_mode": {
    "name": "ipython",
    "version": 3
   },
   "file_extension": ".py",
   "mimetype": "text/x-python",
   "name": "python",
   "nbconvert_exporter": "python",
   "pygments_lexer": "ipython3",
   "version": "3.8.5"
  },
  "notebookId": "21bad8dc-18cc-475e-b953-a42d85d7ad5e"
 },
 "nbformat": 4,
 "nbformat_minor": 1
}
