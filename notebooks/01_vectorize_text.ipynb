{
 "cells": [
  {
   "cell_type": "code",
   "execution_count": null,
   "metadata": {
    "colab": {
     "base_uri": "https://localhost:8080/",
     "height": 252
    },
    "id": "IlfBt2ZsBFjN",
    "outputId": "66c1bf24-d44d-469c-d6da-14a8c6b9019c"
   },
   "outputs": [],
   "source": [
    "import os\n",
    "\n",
    "import nltk\n",
    "nltk.download('punkt')\n",
    "import numpy as np\n",
    "from tqdm.notebook import tqdm\n",
    "\n",
    "from hse_dialog_tree.utils.files import load_pickle, dump_pickle\n",
    "from hse_dialog_tree.utils.cpu import get_processor_info\n",
    "from hse_dialog_tree.utils.batch import Batch\n",
    "from hse_dialog_tree.text_vectorizers import TfUniversalSentenceEncoder\n",
    "\n",
    "print(get_processor_info())\n",
    "!nvidia-smi"
   ]
  },
  {
   "cell_type": "code",
   "execution_count": null,
   "metadata": {
    "id": "-bo8ZIkfIYbe"
   },
   "outputs": [],
   "source": [
    "sentence_encoder = TfUniversalSentenceEncoder('models/universal-sentence-encoder-multilingual-large_3')"
   ]
  },
  {
   "cell_type": "code",
   "execution_count": null,
   "metadata": {
    "pycharm": {
     "name": "#%%\n"
    }
   },
   "outputs": [],
   "source": [
    "for lang in tqdm(os.listdir('data')):\n",
    "    if not os.path.isdir(f'data/{lang}') or os.path.exists(f'data/{lang}/02_sentence_to_vector.pkl.zip'):\n",
    "        continue\n",
    "    print(f'Process {lang}')\n",
    "    dramas = load_pickle(f'data/{lang}/content_all.pkl.zip')\n",
    "\n",
    "    dramas_texts = []\n",
    "    for k, v in dramas.items():\n",
    "        dramas_texts.append(v)\n",
    "\n",
    "    only_sentences = []\n",
    "\n",
    "    for drama in dramas_texts:\n",
    "        for part in drama:\n",
    "            only_sentences = only_sentences + [sent for _, sent in part]\n",
    "\n",
    "    # Also drop too long sentences\n",
    "    only_sentences = [sent for sent in only_sentences if 0 < len(nltk.word_tokenize(sent)) < 700]\n",
    "    dump_pickle(only_sentences, f'data/{lang}/01_only_sentences.pkl.zip')\n",
    "\n",
    "    only_sentences_uniq = list(set(only_sentences))\n",
    "    vectors = []\n",
    "    for sentences in tqdm(Batch(only_sentences_uniq, 128)):\n",
    "        vectors.extend(sentence_encoder(sentences))\n",
    "    vectors = np.array(vectors)\n",
    "    sentence_to_vector = {sent: vec for sent, vec in zip(only_sentences_uniq, vectors)}\n",
    "\n",
    "    dump_pickle(vectors, f'data/{lang}/02_vectors.pkl.zip')\n",
    "    dump_pickle(sentence_to_vector, f'data/{lang}/02_sentence_to_vector.pkl.zip')\n"
   ]
  },
  {
   "cell_type": "code",
   "execution_count": null,
   "metadata": {},
   "outputs": [],
   "source": [
    "for lang in tqdm(os.listdir('data')):\n",
    "    if not os.path.isdir(f'data/{lang}') or os.path.exists(f'data/{lang}/02_sentence_to_vector.pkl.zip'):\n",
    "        continue\n",
    "    print(f'Process {lang}')\n",
    "    dramas = load_pickle(f'data/{lang}/content_all.pkl.zip')\n",
    "\n",
    "    dramas_texts = []\n",
    "    for k, v in dramas.items():\n",
    "        dramas_texts.append(v)\n",
    "\n",
    "    only_sentences = []\n",
    "\n",
    "    for drama in dramas_texts:\n",
    "        for part in drama:\n",
    "            only_sentences = only_sentences + [sent for _, sent in part]\n",
    "\n",
    "    # Also drop too long sentences\n",
    "    only_sentences = [sent for sent in only_sentences if 0 < len(nltk.word_tokenize(sent)) < 700]\n",
    "    dump_pickle(only_sentences, f'data/{lang}/01_only_sentences.pkl.zip')\n",
    "\n",
    "    vectors = []\n",
    "    for sentences in tqdm(Batch(only_sentences, 128)):\n",
    "        vectors.extend(sentence_encoder(sentences))\n",
    "    vectors = np.array(vectors)\n",
    "    sentence_to_vector = {sent: vec for sent, vec in zip(only_sentences, vectors)}\n",
    "\n",
    "    dump_pickle(vectors, f'data/{lang}/02_vectors_v2.pkl.zip')\n",
    "    dump_pickle(sentence_to_vector, f'data/{lang}/02_sentence_to_vector_v2.pkl.zip')\n"
   ]
  }
 ],
 "metadata": {
  "accelerator": "GPU",
  "colab": {
   "collapsed_sections": [],
   "name": "01_vectorize_text.ipynb",
   "provenance": []
  },
  "kernelspec": {
   "display_name": "Python 3",
   "language": "python",
   "name": "python3"
  },
  "language_info": {
   "codemirror_mode": {
    "name": "ipython",
    "version": 3
   },
   "file_extension": ".py",
   "mimetype": "text/x-python",
   "name": "python",
   "nbconvert_exporter": "python",
   "pygments_lexer": "ipython3",
   "version": "3.8.5"
  }
 },
 "nbformat": 4,
 "nbformat_minor": 4
}